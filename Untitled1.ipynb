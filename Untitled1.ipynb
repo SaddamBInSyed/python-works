{
  "nbformat": 4,
  "nbformat_minor": 0,
  "metadata": {
    "colab": {
      "name": "Untitled1.ipynb",
      "version": "0.3.2",
      "provenance": [],
      "include_colab_link": true
    },
    "kernelspec": {
      "name": "python3",
      "display_name": "Python 3"
    },
    "accelerator": "GPU"
  },
  "cells": [
    {
      "cell_type": "markdown",
      "metadata": {
        "id": "view-in-github",
        "colab_type": "text"
      },
      "source": [
        "<a href=\"https://colab.research.google.com/github/SaddamBInSyed/python-works/blob/master/Untitled1.ipynb\" target=\"_parent\"><img src=\"https://colab.research.google.com/assets/colab-badge.svg\" alt=\"Open In Colab\"/></a>"
      ]
    },
    {
      "metadata": {
        "id": "p__bfwtu9OLg",
        "colab_type": "code",
        "colab": {
          "base_uri": "https://localhost:8080/",
          "height": 367
        },
        "outputId": "eac4bc7f-7268-4a84-aa2a-e751e84223aa"
      },
      "cell_type": "code",
      "source": [
        "import face_recognition\n",
        "import cv2\n",
        "\n",
        "# This is a demo of running face recognition on live video from your webcam. It's a little more complicated than the\n",
        "# other example, but it includes some basic performance tweaks to make things run a lot faster:\n",
        "#   1. Process each video frame at 1/4 resolution (though still display it at full resolution)\n",
        "#   2. Only detect faces in every other frame of video.\n",
        "\n",
        "# PLEASE NOTE: This example requires OpenCV (the `cv2` library) to be installed only to read from your webcam.\n",
        "# OpenCV is *not* required to use the face_recognition library. It's only required if you want to run this\n",
        "# specific demo. If you have trouble installing it, try any of the other demos that don't require it instead.\n",
        "\n",
        "# Get a reference to webcam #0 (the default one)\n",
        "# Load a sample picture and learn how to recognize it.\n",
        "obama_image = face_recognition.load_image_file(r\"C:\\Users\\saddam.h.SMARTV\\Documents\\IPMsg\\AutoSave\\e.JPG\")\n",
        "obama_face_encoding = face_recognition.face_encodings(obama_image,num_jitters=2)[0]\n",
        "\n",
        "obama_image1 = face_recognition.load_image_file(r\"C:\\Users\\saddam.h.SMARTV\\Documents\\IPMsg\\AutoSave\\v.JPG\")\n",
        "obama_face_encoding1 = face_recognition.face_encodings(obama_image1,num_jitters=2)[0]\n",
        "\n",
        "# Load a second sample picture and learn how to recognize it.\n",
        "#biden_image = face_recognition.load_image_file(r\"C:\\Users\\saddam.h.SMARTV\\Documents\\muneer.JPG\")\n",
        "#biden_face_encoding = face_recognition.face_encodings(biden_image,num_jitters=2)[0]\n",
        "\n",
        "#biden_image1 = face_recognition.load_image_file(r\"C:\\Users\\saddam.h.SMARTV\\Documents\\muneer.JPG\")\n",
        "#biden_face_encoding1 = face_recognition.face_encodings(biden_image1,num_jitters=2)[0]\n",
        "\n",
        "# Create arrays of known face encodings and their names\n",
        "known_face_encodings = []\n",
        "##known_face_encodings.append(obama_face_encoding)\n",
        "##known_face_encodings.append(biden_face_encoding)\n",
        "known_face_encodings = [\n",
        "    obama_face_encoding,\n",
        "    obama_face_encoding1,\n",
        "    #biden_face_encoding,\n",
        "    #biden_face_encoding1\n",
        "]\n",
        "known_face_names = [\n",
        "    \"Anoop\",\n",
        "    \"Muneer\",\n",
        "    #\"anshad\",\n",
        "    #\"anshad\"\n",
        "]\n",
        "print(\"sdsd\")\n",
        "video_capture = cv2.VideoCapture(0)\n",
        "# Initialize some variables\n",
        "face_locations = []\n",
        "face_encodings = []\n",
        "face_names = []\n",
        "process_this_frame = True\n",
        "\n",
        "while True:\n",
        "    try:\n",
        "        # Grab a single frame of video\n",
        "        ret, frame = video_capture.read()\n",
        "\n",
        "        # Resize frame of video to 1/4 size for faster face recognition processing\n",
        "        small_frame = cv2.resize(frame, (0, 0), fx=0.25, fy=0.25)\n",
        "\n",
        "        # Convert the image from BGR color (which OpenCV uses) to RGB color (which face_recognition uses)\n",
        "        rgb_small_frame = small_frame[:, :, ::-1]\n",
        "\n",
        "        # Only process every other frame of video to save time\n",
        "        if process_this_frame:\n",
        "            # Find all the faces and face encodings in the current frame of video\n",
        "            face_locations = face_recognition.face_locations(rgb_small_frame)\n",
        "            #print(\"pricesign 1 \")\n",
        "            face_encodings = face_recognition.face_encodings(rgb_small_frame, face_locations, num_jitters=2)\n",
        "            print(\" length  \" + str(len(face_encodings)))\n",
        "            face_names = []\n",
        "            for face_encoding in face_encodings:\n",
        "                # See if the face is a match for the known face(s)\n",
        "                matches = face_recognition.compare_faces(known_face_encodings, face_encoding, tolerance=0.5)\n",
        "                name = \"Unknown\"\n",
        "\n",
        "                # If a match was found in known_face_encodings, just use the first one.\n",
        "                if True in matches:\n",
        "                    first_match_index = matches.index(True)\n",
        "                    name = known_face_names[first_match_index]\n",
        "                    print(name)\n",
        "\n",
        "                face_names.append(name)\n",
        "\n",
        "        process_this_frame = not process_this_frame\n",
        "\n",
        "\n",
        "        # Display the results\n",
        "        for (top, right, bottom, left), name in zip(face_locations, face_names):\n",
        "            # Scale back up face locations since the frame we detected in was scaled to 1/4 size\n",
        "            top *= 4\n",
        "            right *= 4\n",
        "            bottom *= 4\n",
        "            left *= 4\n",
        "\n",
        "            # Draw a box around the face\n",
        "            cv2.rectangle(frame, (left, top), (right, bottom), (0, 0, 255), 2)\n",
        "\n",
        "            # Draw a label with a name below the face\n",
        "            cv2.rectangle(frame, (left, bottom - 35), (right, bottom), (0, 0, 255), cv2.FILLED)\n",
        "            font = cv2.FONT_HERSHEY_DUPLEX\n",
        "            cv2.putText(frame, name, (left + 6, bottom - 6), font, 1.0, (255, 255, 255), 1)\n",
        "    except Exception in err:\n",
        "        print(err)\n",
        "    # Display the resulting image\n",
        "    cv2.imshow(\"Face identification & Verification\", frame)\n",
        "\n",
        "    # Hit 'q' on the keyboard to quit!\n",
        "    if cv2.waitKey(1) & 0xFF == ord('q'):\n",
        "        break\n",
        "\n",
        "# Release handle to the webcam\n",
        "video_capture.release()\n",
        "cv2.destroyAllWindows()\n"
      ],
      "execution_count": 3,
      "outputs": [
        {
          "output_type": "error",
          "ename": "ModuleNotFoundError",
          "evalue": "ignored",
          "traceback": [
            "\u001b[0;31m---------------------------------------------------------------------------\u001b[0m",
            "\u001b[0;31mModuleNotFoundError\u001b[0m                       Traceback (most recent call last)",
            "\u001b[0;32m<ipython-input-3-679ad4b28ce6>\u001b[0m in \u001b[0;36m<module>\u001b[0;34m()\u001b[0m\n\u001b[0;32m----> 1\u001b[0;31m \u001b[0;32mimport\u001b[0m \u001b[0mface_recognition\u001b[0m\u001b[0;34m\u001b[0m\u001b[0;34m\u001b[0m\u001b[0m\n\u001b[0m\u001b[1;32m      2\u001b[0m \u001b[0;32mimport\u001b[0m \u001b[0mcv2\u001b[0m\u001b[0;34m\u001b[0m\u001b[0;34m\u001b[0m\u001b[0m\n\u001b[1;32m      3\u001b[0m \u001b[0;34m\u001b[0m\u001b[0m\n\u001b[1;32m      4\u001b[0m \u001b[0;31m# This is a demo of running face recognition on live video from your webcam. It's a little more complicated than the\u001b[0m\u001b[0;34m\u001b[0m\u001b[0;34m\u001b[0m\u001b[0;34m\u001b[0m\u001b[0m\n\u001b[1;32m      5\u001b[0m \u001b[0;31m# other example, but it includes some basic performance tweaks to make things run a lot faster:\u001b[0m\u001b[0;34m\u001b[0m\u001b[0;34m\u001b[0m\u001b[0;34m\u001b[0m\u001b[0m\n",
            "\u001b[0;31mModuleNotFoundError\u001b[0m: No module named 'face_recognition'",
            "",
            "\u001b[0;31m---------------------------------------------------------------------------\u001b[0;32m\nNOTE: If your import is failing due to a missing package, you can\nmanually install dependencies using either !pip or !apt.\n\nTo view examples of installing some common dependencies, click the\n\"Open Examples\" button below.\n\u001b[0;31m---------------------------------------------------------------------------\u001b[0m\n"
          ]
        }
      ]
    },
    {
      "metadata": {
        "id": "ujTfi5Uk9vuK",
        "colab_type": "code",
        "colab": {
          "base_uri": "https://localhost:8080/",
          "height": 289
        },
        "outputId": "8c1437d7-94f2-4c7e-a43d-4c5b0b61dff8"
      },
      "cell_type": "code",
      "source": [
        "!pip install face_recognition"
      ],
      "execution_count": 4,
      "outputs": [
        {
          "output_type": "stream",
          "text": [
            "Collecting face_recognition\n",
            "  Downloading https://files.pythonhosted.org/packages/3f/ed/ad9a28042f373d4633fc8b49109b623597d6f193d3bbbef7780a5ee8eef2/face_recognition-1.2.3-py2.py3-none-any.whl\n",
            "Requirement already satisfied: Pillow in /usr/local/lib/python3.6/dist-packages (from face_recognition) (4.3.0)\n",
            "Requirement already satisfied: numpy in /usr/local/lib/python3.6/dist-packages (from face_recognition) (1.16.3)\n",
            "Requirement already satisfied: dlib>=19.7 in /usr/local/lib/python3.6/dist-packages (from face_recognition) (19.16.0)\n",
            "Collecting face-recognition-models>=0.3.0 (from face_recognition)\n",
            "\u001b[?25l  Downloading https://files.pythonhosted.org/packages/cf/3b/4fd8c534f6c0d1b80ce0973d01331525538045084c73c153ee6df20224cf/face_recognition_models-0.3.0.tar.gz (100.1MB)\n",
            "\u001b[K    100% |████████████████████████████████| 100.2MB 343kB/s \n",
            "\u001b[?25hRequirement already satisfied: Click>=6.0 in /usr/local/lib/python3.6/dist-packages (from face_recognition) (7.0)\n",
            "Requirement already satisfied: olefile in /usr/local/lib/python3.6/dist-packages (from Pillow->face_recognition) (0.46)\n",
            "Building wheels for collected packages: face-recognition-models\n",
            "  Building wheel for face-recognition-models (setup.py) ... \u001b[?25ldone\n",
            "\u001b[?25h  Stored in directory: /root/.cache/pip/wheels/d2/99/18/59c6c8f01e39810415c0e63f5bede7d83dfb0ffc039865465f\n",
            "Successfully built face-recognition-models\n",
            "Installing collected packages: face-recognition-models, face-recognition\n",
            "Successfully installed face-recognition-1.2.3 face-recognition-models-0.3.0\n"
          ],
          "name": "stdout"
        }
      ]
    }
  ]
}